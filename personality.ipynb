{
 "cells": [
  {
   "cell_type": "code",
   "execution_count": 3,
   "metadata": {},
   "outputs": [],
   "source": [
    "# This Python 3 environment comes with many helpful analytics libraries installed\n",
    "# It is defined by the kaggle/python Docker image: https://github.com/kaggle/docker-python\n",
    "# For example, here's several helpful packages to load\n",
    "\n",
    "import numpy as np # linear algebra\n",
    "import pandas as pd # data processing, CSV file I/O (e.g. pd.read_csv)\n",
    "from sklearn.preprocessing import LabelEncoder\n",
    "from sklearn.model_selection import train_test_split\n",
    "from sklearn.metrics import accuracy_score,classification_report\n",
    "from catboost import CatBoostClassifier\n",
    "\n",
    "# Input data files are available in the read-only \"../input/\" directoryz\n",
    "# For example, running this (by clicking run or pressing Shift+Enter) will list all files under the input directory\n",
    "\n",
    "import os\n",
    "for dirname, _, filenames in os.walk('/kaggle/input'):\n",
    "    for filename in filenames:\n",
    "        print(os.path.join(dirname, filename))\n",
    "\n",
    "# You can write up to 20GB to the current directory (/kaggle/working/) that gets preserved as output when you create a version using \"Save & Run All\" \n",
    "# You can also write temporary files to /kaggle/temp/, but they won't be saved outside of the current session"
   ]
  },
  {
   "cell_type": "code",
   "execution_count": 4,
   "metadata": {},
   "outputs": [],
   "source": [
    "df = pd.read_csv('personality.csv')"
   ]
  },
  {
   "cell_type": "code",
   "execution_count": 5,
   "metadata": {},
   "outputs": [
    {
     "data": {
      "text/html": [
       "<div>\n",
       "<style scoped>\n",
       "    .dataframe tbody tr th:only-of-type {\n",
       "        vertical-align: middle;\n",
       "    }\n",
       "\n",
       "    .dataframe tbody tr th {\n",
       "        vertical-align: top;\n",
       "    }\n",
       "\n",
       "    .dataframe thead th {\n",
       "        text-align: right;\n",
       "    }\n",
       "</style>\n",
       "<table border=\"1\" class=\"dataframe\">\n",
       "  <thead>\n",
       "    <tr style=\"text-align: right;\">\n",
       "      <th></th>\n",
       "      <th>Age</th>\n",
       "      <th>Gender</th>\n",
       "      <th>Education</th>\n",
       "      <th>Introversion Score</th>\n",
       "      <th>Sensing Score</th>\n",
       "      <th>Thinking Score</th>\n",
       "      <th>Judging Score</th>\n",
       "      <th>Interest</th>\n",
       "      <th>Personality</th>\n",
       "    </tr>\n",
       "  </thead>\n",
       "  <tbody>\n",
       "    <tr>\n",
       "      <th>0</th>\n",
       "      <td>19.0</td>\n",
       "      <td>Male</td>\n",
       "      <td>0</td>\n",
       "      <td>9.47080</td>\n",
       "      <td>7.141434</td>\n",
       "      <td>6.03696</td>\n",
       "      <td>4.360278</td>\n",
       "      <td>Unknown</td>\n",
       "      <td>ENFP</td>\n",
       "    </tr>\n",
       "    <tr>\n",
       "      <th>1</th>\n",
       "      <td>27.0</td>\n",
       "      <td>Female</td>\n",
       "      <td>0</td>\n",
       "      <td>5.85392</td>\n",
       "      <td>6.160195</td>\n",
       "      <td>0.80552</td>\n",
       "      <td>4.221421</td>\n",
       "      <td>Sports</td>\n",
       "      <td>ESFP</td>\n",
       "    </tr>\n",
       "    <tr>\n",
       "      <th>2</th>\n",
       "      <td>21.0</td>\n",
       "      <td>Female</td>\n",
       "      <td>0</td>\n",
       "      <td>7.08615</td>\n",
       "      <td>3.388433</td>\n",
       "      <td>2.66188</td>\n",
       "      <td>5.127320</td>\n",
       "      <td>Unknown</td>\n",
       "      <td>ENFP</td>\n",
       "    </tr>\n",
       "    <tr>\n",
       "      <th>3</th>\n",
       "      <td>28.0</td>\n",
       "      <td>Male</td>\n",
       "      <td>0</td>\n",
       "      <td>2.01892</td>\n",
       "      <td>4.823624</td>\n",
       "      <td>7.30625</td>\n",
       "      <td>5.986550</td>\n",
       "      <td>Others</td>\n",
       "      <td>INTP</td>\n",
       "    </tr>\n",
       "    <tr>\n",
       "      <th>4</th>\n",
       "      <td>36.0</td>\n",
       "      <td>Female</td>\n",
       "      <td>1</td>\n",
       "      <td>9.91703</td>\n",
       "      <td>4.755080</td>\n",
       "      <td>5.31469</td>\n",
       "      <td>4.677213</td>\n",
       "      <td>Technology</td>\n",
       "      <td>ENFP</td>\n",
       "    </tr>\n",
       "  </tbody>\n",
       "</table>\n",
       "</div>"
      ],
      "text/plain": [
       "    Age  Gender  Education  Introversion Score  Sensing Score  Thinking Score  \\\n",
       "0  19.0    Male          0             9.47080       7.141434         6.03696   \n",
       "1  27.0  Female          0             5.85392       6.160195         0.80552   \n",
       "2  21.0  Female          0             7.08615       3.388433         2.66188   \n",
       "3  28.0    Male          0             2.01892       4.823624         7.30625   \n",
       "4  36.0  Female          1             9.91703       4.755080         5.31469   \n",
       "\n",
       "   Judging Score    Interest Personality  \n",
       "0       4.360278     Unknown        ENFP  \n",
       "1       4.221421      Sports        ESFP  \n",
       "2       5.127320     Unknown        ENFP  \n",
       "3       5.986550      Others        INTP  \n",
       "4       4.677213  Technology        ENFP  "
      ]
     },
     "execution_count": 5,
     "metadata": {},
     "output_type": "execute_result"
    }
   ],
   "source": [
    "df.head()"
   ]
  },
  {
   "cell_type": "code",
   "execution_count": 6,
   "metadata": {},
   "outputs": [
    {
     "name": "stdout",
     "output_type": "stream",
     "text": [
      "<class 'pandas.core.frame.DataFrame'>\n",
      "RangeIndex: 128061 entries, 0 to 128060\n",
      "Data columns (total 9 columns):\n",
      " #   Column              Non-Null Count   Dtype  \n",
      "---  ------              --------------   -----  \n",
      " 0   Age                 128061 non-null  float64\n",
      " 1   Gender              128061 non-null  object \n",
      " 2   Education           128061 non-null  int64  \n",
      " 3   Introversion Score  128061 non-null  float64\n",
      " 4   Sensing Score       128061 non-null  float64\n",
      " 5   Thinking Score      128061 non-null  float64\n",
      " 6   Judging Score       128061 non-null  float64\n",
      " 7   Interest            128061 non-null  object \n",
      " 8   Personality         128061 non-null  object \n",
      "dtypes: float64(5), int64(1), object(3)\n",
      "memory usage: 8.8+ MB\n"
     ]
    }
   ],
   "source": [
    "df.info()"
   ]
  },
  {
   "cell_type": "code",
   "execution_count": 7,
   "metadata": {},
   "outputs": [],
   "source": [
    "le = LabelEncoder()\n",
    "columns = ['Gender','Interest','Personality'] \n",
    "\n",
    "for col in columns:\n",
    "    df[col] = le.fit_transform(df[col])\n",
    "    "
   ]
  },
  {
   "cell_type": "code",
   "execution_count": 8,
   "metadata": {},
   "outputs": [
    {
     "data": {
      "text/html": [
       "<div>\n",
       "<style scoped>\n",
       "    .dataframe tbody tr th:only-of-type {\n",
       "        vertical-align: middle;\n",
       "    }\n",
       "\n",
       "    .dataframe tbody tr th {\n",
       "        vertical-align: top;\n",
       "    }\n",
       "\n",
       "    .dataframe thead th {\n",
       "        text-align: right;\n",
       "    }\n",
       "</style>\n",
       "<table border=\"1\" class=\"dataframe\">\n",
       "  <thead>\n",
       "    <tr style=\"text-align: right;\">\n",
       "      <th></th>\n",
       "      <th>Age</th>\n",
       "      <th>Gender</th>\n",
       "      <th>Education</th>\n",
       "      <th>Introversion Score</th>\n",
       "      <th>Sensing Score</th>\n",
       "      <th>Thinking Score</th>\n",
       "      <th>Judging Score</th>\n",
       "      <th>Interest</th>\n",
       "      <th>Personality</th>\n",
       "    </tr>\n",
       "  </thead>\n",
       "  <tbody>\n",
       "    <tr>\n",
       "      <th>0</th>\n",
       "      <td>19.0</td>\n",
       "      <td>1</td>\n",
       "      <td>0</td>\n",
       "      <td>9.47080</td>\n",
       "      <td>7.141434</td>\n",
       "      <td>6.03696</td>\n",
       "      <td>4.360278</td>\n",
       "      <td>4</td>\n",
       "      <td>1</td>\n",
       "    </tr>\n",
       "    <tr>\n",
       "      <th>1</th>\n",
       "      <td>27.0</td>\n",
       "      <td>0</td>\n",
       "      <td>0</td>\n",
       "      <td>5.85392</td>\n",
       "      <td>6.160195</td>\n",
       "      <td>0.80552</td>\n",
       "      <td>4.221421</td>\n",
       "      <td>2</td>\n",
       "      <td>5</td>\n",
       "    </tr>\n",
       "    <tr>\n",
       "      <th>2</th>\n",
       "      <td>21.0</td>\n",
       "      <td>0</td>\n",
       "      <td>0</td>\n",
       "      <td>7.08615</td>\n",
       "      <td>3.388433</td>\n",
       "      <td>2.66188</td>\n",
       "      <td>5.127320</td>\n",
       "      <td>4</td>\n",
       "      <td>1</td>\n",
       "    </tr>\n",
       "    <tr>\n",
       "      <th>3</th>\n",
       "      <td>28.0</td>\n",
       "      <td>1</td>\n",
       "      <td>0</td>\n",
       "      <td>2.01892</td>\n",
       "      <td>4.823624</td>\n",
       "      <td>7.30625</td>\n",
       "      <td>5.986550</td>\n",
       "      <td>1</td>\n",
       "      <td>11</td>\n",
       "    </tr>\n",
       "    <tr>\n",
       "      <th>4</th>\n",
       "      <td>36.0</td>\n",
       "      <td>0</td>\n",
       "      <td>1</td>\n",
       "      <td>9.91703</td>\n",
       "      <td>4.755080</td>\n",
       "      <td>5.31469</td>\n",
       "      <td>4.677213</td>\n",
       "      <td>3</td>\n",
       "      <td>1</td>\n",
       "    </tr>\n",
       "  </tbody>\n",
       "</table>\n",
       "</div>"
      ],
      "text/plain": [
       "    Age  Gender  Education  Introversion Score  Sensing Score  Thinking Score  \\\n",
       "0  19.0       1          0             9.47080       7.141434         6.03696   \n",
       "1  27.0       0          0             5.85392       6.160195         0.80552   \n",
       "2  21.0       0          0             7.08615       3.388433         2.66188   \n",
       "3  28.0       1          0             2.01892       4.823624         7.30625   \n",
       "4  36.0       0          1             9.91703       4.755080         5.31469   \n",
       "\n",
       "   Judging Score  Interest  Personality  \n",
       "0       4.360278         4            1  \n",
       "1       4.221421         2            5  \n",
       "2       5.127320         4            1  \n",
       "3       5.986550         1           11  \n",
       "4       4.677213         3            1  "
      ]
     },
     "execution_count": 8,
     "metadata": {},
     "output_type": "execute_result"
    }
   ],
   "source": [
    "df.head()"
   ]
  },
  {
   "cell_type": "code",
   "execution_count": 9,
   "metadata": {},
   "outputs": [],
   "source": [
    "y = df['Personality']\n",
    "x = df.drop(columns=['Personality'])"
   ]
  },
  {
   "cell_type": "code",
   "execution_count": 10,
   "metadata": {},
   "outputs": [],
   "source": [
    "X_train, X_test, y_train, y_test = train_test_split(x,y,train_size=0.8,random_state=10)"
   ]
  },
  {
   "cell_type": "code",
   "execution_count": 11,
   "metadata": {},
   "outputs": [],
   "source": [
    "model = CatBoostClassifier(\n",
    "        loss_function= 'MultiClass',\n",
    "        verbose= False,\n",
    "        n_estimators= 300,\n",
    "        max_bin= 300,\n",
    "        min_data_in_leaf= 100,\n",
    "        l2_leaf_reg= 10\n",
    "        )"
   ]
  },
  {
   "cell_type": "code",
   "execution_count": 12,
   "metadata": {},
   "outputs": [
    {
     "data": {
      "text/plain": [
       "<catboost.core.CatBoostClassifier at 0x1ff60ee6410>"
      ]
     },
     "execution_count": 12,
     "metadata": {},
     "output_type": "execute_result"
    }
   ],
   "source": [
    "model.fit(X_train,y_train)"
   ]
  },
  {
   "cell_type": "code",
   "execution_count": 13,
   "metadata": {},
   "outputs": [],
   "source": [
    "y_pred = model.predict(X_test)"
   ]
  },
  {
   "cell_type": "code",
   "execution_count": 14,
   "metadata": {},
   "outputs": [
    {
     "name": "stdout",
     "output_type": "stream",
     "text": [
      "              precision    recall  f1-score   support\n",
      "\n",
      "           0       0.92      0.94      0.93       775\n",
      "           1       0.92      0.93      0.93      6952\n",
      "           2       0.93      0.90      0.91       543\n",
      "           3       0.93      0.93      0.93      4904\n",
      "           4       0.83      0.73      0.78       108\n",
      "           5       0.87      0.80      0.83       957\n",
      "           6       0.77      0.68      0.72        69\n",
      "           7       0.87      0.82      0.84       650\n",
      "           8       0.91      0.91      0.91       605\n",
      "           9       0.90      0.92      0.91      4965\n",
      "          10       0.86      0.90      0.88       376\n",
      "          11       0.90      0.91      0.90      3402\n",
      "          12       0.84      0.63      0.72        75\n",
      "          13       0.85      0.80      0.83       692\n",
      "          14       0.84      0.63      0.72        67\n",
      "          15       0.84      0.83      0.84       473\n",
      "\n",
      "    accuracy                           0.91     25613\n",
      "   macro avg       0.87      0.83      0.85     25613\n",
      "weighted avg       0.91      0.91      0.91     25613\n",
      "\n"
     ]
    }
   ],
   "source": [
    "print(classification_report(y_test, y_pred))\n"
   ]
  },
  {
   "cell_type": "code",
   "execution_count": null,
   "metadata": {},
   "outputs": [],
   "source": []
  }
 ],
 "metadata": {
  "kernelspec": {
   "display_name": "Python 3",
   "language": "python",
   "name": "python3"
  },
  "language_info": {
   "codemirror_mode": {
    "name": "ipython",
    "version": 3
   },
   "file_extension": ".py",
   "mimetype": "text/x-python",
   "name": "python",
   "nbconvert_exporter": "python",
   "pygments_lexer": "ipython3",
   "version": "3.11.9"
  }
 },
 "nbformat": 4,
 "nbformat_minor": 2
}
